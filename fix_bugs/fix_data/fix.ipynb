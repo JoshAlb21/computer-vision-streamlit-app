{
 "cells": [
  {
   "cell_type": "code",
   "execution_count": 4,
   "metadata": {},
   "outputs": [],
   "source": [
    "from tachinidae_analyzer.plotting.inference_results import plot_segments_from_results\n",
    "from tachinidae_analyzer.perform_inference.inference_yolov8seg import inference_yolov8seg_on_folder\n",
    "from tachinidae_analyzer.plotting.color_distribution import plot_color_histogram\n",
    "from tachinidae_analyzer.plotting.visualize_bin_mask import visualize_bin_mask\n",
    "from tachinidae_analyzer.plotting.area_ratio_barplot import plot_grouped_ratio_barplot_with_labels, plot_single_segmented_ratio_barplot\n",
    "\n",
    "from tachinidae_analyzer.analyze_segments.segment_extractors import SegmentColor, SegmentArea, segment_area_comparison\n",
    "from tachinidae_analyzer.analyze_segments.xyn_to_bin_mask import xyn_to_bin_mask\n",
    "\n",
    "from collections import defaultdict\n",
    "import matplotlib.pyplot as plt\n",
    "import torch"
   ]
  },
  {
   "cell_type": "code",
   "execution_count": 5,
   "metadata": {},
   "outputs": [],
   "source": [
    "folder_path = '/Users/joshuaalbiez/Documents/python/tachinidae_analyzer/fix_bugs/fix_data/ver2_example/'\n",
    "model_path = \"/Users/joshuaalbiez/Documents/python/tachinidae_analyzer/data/models/YOLOv8_seg/yolov8n_seg_w_aug.pt\""
   ]
  },
  {
   "cell_type": "code",
   "execution_count": 6,
   "metadata": {},
   "outputs": [
    {
     "name": "stderr",
     "output_type": "stream",
     "text": [
      "\n"
     ]
    },
    {
     "name": "stdout",
     "output_type": "stream",
     "text": [
      "Image OK : CAS002_CAS0000157_stacked_02_H.jpg\n",
      "Process Finished\n",
      "Predicting...\n"
     ]
    },
    {
     "name": "stderr",
     "output_type": "stream",
     "text": [
      "image 1/1 /Users/joshuaalbiez/Documents/python/tachinidae_analyzer/fix_bugs/fix_data/ver2_example/CAS002_CAS0000157_stacked_02_H.jpg: 512x640 1 head, 1 abdomen, 1 thorax, 143.8ms\n",
      "Speed: 4.0ms preprocess, 143.8ms inference, 3.0ms postprocess per image at shape (1, 3, 512, 640)\n"
     ]
    },
    {
     "name": "stdout",
     "output_type": "stream",
     "text": [
      "Predictions\n",
      "[[ultralytics.engine.results.Results object with attributes:\n",
      "\n",
      "boxes: ultralytics.engine.results.Boxes object\n",
      "keypoints: None\n",
      "masks: ultralytics.engine.results.Masks object\n",
      "names: {0: 'head', 1: 'abdomen', 2: 'thorax'}\n",
      "orig_img: array([[[117, 124, 119],\n",
      "        [117, 124, 119],\n",
      "        [117, 124, 121],\n",
      "        ...,\n",
      "        [120, 125, 124],\n",
      "        [120, 125, 124],\n",
      "        [120, 125, 124]],\n",
      "\n",
      "       [[117, 124, 119],\n",
      "        [117, 124, 119],\n",
      "        [117, 124, 121],\n",
      "        ...,\n",
      "        [121, 126, 125],\n",
      "        [122, 127, 126],\n",
      "        [122, 127, 126]],\n",
      "\n",
      "       [[117, 124, 119],\n",
      "        [117, 124, 119],\n",
      "        [117, 124, 121],\n",
      "        ...,\n",
      "        [120, 125, 124],\n",
      "        [121, 126, 125],\n",
      "        [122, 127, 126]],\n",
      "\n",
      "       ...,\n",
      "\n",
      "       [[ 82,  87,  86],\n",
      "        [ 84,  89,  88],\n",
      "        [ 86,  91,  90],\n",
      "        ...,\n",
      "        [ 84,  89,  88],\n",
      "        [ 85,  90,  89],\n",
      "        [ 86,  91,  90]],\n",
      "\n",
      "       [[ 83,  88,  87],\n",
      "        [ 85,  90,  89],\n",
      "        [ 87,  92,  91],\n",
      "        ...,\n",
      "        [ 83,  88,  87],\n",
      "        [ 84,  89,  88],\n",
      "        [ 86,  91,  90]],\n",
      "\n",
      "       [[ 84,  89,  88],\n",
      "        [ 86,  91,  90],\n",
      "        [ 89,  94,  93],\n",
      "        ...,\n",
      "        [ 84,  89,  88],\n",
      "        [ 86,  91,  90],\n",
      "        [ 88,  93,  92]]], dtype=uint8)\n",
      "orig_shape: (3040, 4032)\n",
      "path: '/Users/joshuaalbiez/Documents/python/tachinidae_analyzer/fix_bugs/fix_data/ver2_example/CAS002_CAS0000157_stacked_02_H.jpg'\n",
      "probs: None\n",
      "save_dir: None\n",
      "speed: {'preprocess': 3.9637088775634766, 'inference': 143.78094673156738, 'postprocess': 2.961874008178711}]]\n"
     ]
    }
   ],
   "source": [
    "predictions = inference_yolov8seg_on_folder(folder_path, model_path, limit_img=1)\n",
    "bin_masks = xyn_to_bin_mask(predictions[0][0].masks.xyn, predictions[0][0].orig_img.shape[1], predictions[0][0].orig_img.shape[0], predictions[0][0].orig_img)\n",
    "\n",
    "#plot_segments_from_results(predictions[0][0])"
   ]
  },
  {
   "cell_type": "code",
   "execution_count": 7,
   "metadata": {},
   "outputs": [],
   "source": [
    "def plot_binary_mask(mask):\n",
    "    \"\"\"\n",
    "    Plot a binary mask using matplotlib.\n",
    "\n",
    "    Parameters:\n",
    "    - mask (np.ndarray): A 2D numpy array with binary values.\n",
    "    \"\"\"\n",
    "    plt.imshow(mask, cmap='gray')\n",
    "    plt.colorbar(label='Pixel Value')\n",
    "    plt.title('Binary Mask Visualization')\n",
    "    plt.xlabel('X-axis (Pixels)')\n",
    "    plt.ylabel('Y-axis (Pixels)')\n",
    "    plt.show()"
   ]
  },
  {
   "cell_type": "code",
   "execution_count": 8,
   "metadata": {},
   "outputs": [
    {
     "data": {
      "text/plain": [
       "{0: 'head', 1: 'abdomen', 2: 'thorax'}"
      ]
     },
     "execution_count": 8,
     "metadata": {},
     "output_type": "execute_result"
    }
   ],
   "source": [
    "predictions[0][0].names"
   ]
  },
  {
   "cell_type": "code",
   "execution_count": 9,
   "metadata": {},
   "outputs": [
    {
     "data": {
      "text/plain": [
       "tensor([1., 0., 2.])"
      ]
     },
     "execution_count": 9,
     "metadata": {},
     "output_type": "execute_result"
    }
   ],
   "source": [
    "predictions[0][0].boxes.cls #[0].item()"
   ]
  },
  {
   "cell_type": "code",
   "execution_count": 17,
   "metadata": {},
   "outputs": [
    {
     "data": {
      "text/plain": [
       "'head'"
      ]
     },
     "execution_count": 17,
     "metadata": {},
     "output_type": "execute_result"
    }
   ],
   "source": [
    "predictions[0][0].names[predictions[0][0].boxes.cls[1].item()]"
   ]
  },
  {
   "cell_type": "code",
   "execution_count": 20,
   "metadata": {},
   "outputs": [
    {
     "name": "stderr",
     "output_type": "stream",
     "text": [
      "WARNING ⚠️ 'Masks.masks' is deprecated. Use 'Masks.data' instead.\n"
     ]
    },
    {
     "data": {
      "image/png": "[encoded data removed]",
      "text/plain": [
       "<Figure size 640x480 with 2 Axes>"
      ]
     },
     "metadata": {},
     "output_type": "display_data"
    }
   ],
   "source": [
    "plot_binary_mask(predictions[0][0].masks.masks[1])"
   ]
  },
  {
   "cell_type": "code",
   "execution_count": 12,
   "metadata": {},
   "outputs": [
    {
     "data": {
      "text/plain": [
       "ultralytics.engine.results.Results object with attributes:\n",
       "\n",
       "boxes: ultralytics.engine.results.Boxes object\n",
       "keypoints: None\n",
       "masks: ultralytics.engine.results.Masks object\n",
       "names: {0: 'head', 1: 'abdomen', 2: 'thorax'}\n",
       "orig_img: array([[[117, 124, 119],\n",
       "        [117, 124, 119],\n",
       "        [117, 124, 121],\n",
       "        ...,\n",
       "        [120, 125, 124],\n",
       "        [120, 125, 124],\n",
       "        [120, 125, 124]],\n",
       "\n",
       "       [[117, 124, 119],\n",
       "        [117, 124, 119],\n",
       "        [117, 124, 121],\n",
       "        ...,\n",
       "        [121, 126, 125],\n",
       "        [122, 127, 126],\n",
       "        [122, 127, 126]],\n",
       "\n",
       "       [[117, 124, 119],\n",
       "        [117, 124, 119],\n",
       "        [117, 124, 121],\n",
       "        ...,\n",
       "        [120, 125, 124],\n",
       "        [121, 126, 125],\n",
       "        [122, 127, 126]],\n",
       "\n",
       "       ...,\n",
       "\n",
       "       [[ 82,  87,  86],\n",
       "        [ 84,  89,  88],\n",
       "        [ 86,  91,  90],\n",
       "        ...,\n",
       "        [ 84,  89,  88],\n",
       "        [ 85,  90,  89],\n",
       "        [ 86,  91,  90]],\n",
       "\n",
       "       [[ 83,  88,  87],\n",
       "        [ 85,  90,  89],\n",
       "        [ 87,  92,  91],\n",
       "        ...,\n",
       "        [ 83,  88,  87],\n",
       "        [ 84,  89,  88],\n",
       "        [ 86,  91,  90]],\n",
       "\n",
       "       [[ 84,  89,  88],\n",
       "        [ 86,  91,  90],\n",
       "        [ 89,  94,  93],\n",
       "        ...,\n",
       "        [ 84,  89,  88],\n",
       "        [ 86,  91,  90],\n",
       "        [ 88,  93,  92]]], dtype=uint8)\n",
       "orig_shape: (3040, 4032)\n",
       "path: '/Users/joshuaalbiez/Documents/python/tachinidae_analyzer/fix_bugs/fix_data/ver2_example/CAS002_CAS0000157_stacked_02_H.jpg'\n",
       "probs: None\n",
       "save_dir: None\n",
       "speed: {'preprocess': 3.9637088775634766, 'inference': 143.78094673156738, 'postprocess': 2.961874008178711}"
      ]
     },
     "execution_count": 12,
     "metadata": {},
     "output_type": "execute_result"
    }
   ],
   "source": [
    "predictions[0][0]"
   ]
  },
  {
   "cell_type": "code",
   "execution_count": 13,
   "metadata": {},
   "outputs": [],
   "source": [
    "import cv2"
   ]
  },
  {
   "cell_type": "code",
   "execution_count": 14,
   "metadata": {},
   "outputs": [],
   "source": [
    "def plot_segments_from_results(result, return_image:bool=False):\n",
    "    \"\"\"\n",
    "    Plot bounding boxes and segmentation masks using a ultralytics.engine.results.Results object.\n",
    "\n",
    "    Parameters:\n",
    "    - result: An instance of ultralytics.engine.results.Results\n",
    "    \"\"\"\n",
    "    # Extracting necessary attributes from the result object\n",
    "    image = result.orig_img.copy()\n",
    "    boxes = result.boxes.xyxy\n",
    "    masks = result.masks.xyn\n",
    "    cls = result.boxes.cls\n",
    "    labels = result.names\n",
    "    conf = result.boxes.conf\n",
    "    score = True if conf is not None else False\n",
    "\n",
    "    # Visualize bounding boxes and segmentations\n",
    "    if return_image:\n",
    "        image = plot_segments(image, boxes, masks, cls, labels, conf, score, return_image=return_image)\n",
    "        print(\"Image type check inside inference_results.py\")\n",
    "        print(type(image))\n",
    "        return image\n",
    "    else:\n",
    "        plot_segments(image, boxes, masks, cls, labels, conf, score, return_image=return_image)"
   ]
  },
  {
   "cell_type": "code",
   "execution_count": 15,
   "metadata": {},
   "outputs": [],
   "source": [
    "def plot_segments(image, boxes, masks, cls:torch.tensor, labels:dict, conf, score:bool=False, alpha=0.5, return_image:bool=False):\n",
    "    #colors = color_generator()\n",
    "    color_lookup = {'head': (0, 255, 0), #green\n",
    "                    'thorax': (0, 0, 255), #blue\n",
    "                    'abdomen': (255, 0, 0)} #red\n",
    "    \n",
    "    predefined_colors = [(0, 255, 0), (0, 0, 255), (255, 0, 0)]\n",
    "    cls = cls.numpy()\n",
    "    h, w = image.shape[:2]\n",
    "    image = cv2.cvtColor(image, cv2.COLOR_BGR2RGB)\n",
    "\n",
    "    for i, (box, mask_points_normalized) in enumerate(zip(boxes, masks)):\n",
    "        if score:\n",
    "            label = labels[cls[i]] + \" \" + str(round(100 * float(conf[i]), 1)) + \"%\"\n",
    "        else:\n",
    "            label = labels.get(cls[i], \"Unknown\")\n",
    "\n",
    "        #color = next(colors)\n",
    "        color = color_lookup[labels.get(cls[i])]\n",
    "        \n",
    "        # Draw bounding box\n",
    "        box_label(image, box, label, color)\n",
    "\n",
    "        # Denormalize mask points\n",
    "        mask_points = mask_points_normalized.copy()\n",
    "        mask_points[:, 0] *= w\n",
    "        mask_points[:, 1] *= h\n",
    "\n",
    "        # Convert denormalized mask points to a binary mask\n",
    "        mask = np.zeros(image.shape[:2], dtype=np.uint8)\n",
    "        cv2.fillPoly(mask, [mask_points.astype(np.int32)], 1)\n",
    "\n",
    "        # Draw segmentation mask\n",
    "        overlay = image.copy()\n",
    "        for c in range(3):  # For each RGB channel\n",
    "            overlay[..., c] = np.where(mask == 1, color[c], overlay[..., c])\n",
    "        cv2.addWeighted(overlay, alpha, image, 1 - alpha, 0, image)\n",
    "\n",
    "    if return_image:\n",
    "        return image\n",
    "    else:\n",
    "        cv2.imshow('Segments', image)\n",
    "        cv2.waitKey(0)"
   ]
  }
 ],
 "metadata": {
  "kernelspec": {
   "display_name": "tachinidae_analyzer",
   "language": "python",
   "name": "python3"
  },
  "language_info": {
   "codemirror_mode": {
    "name": "ipython",
    "version": 3
   },
   "file_extension": ".py",
   "mimetype": "text/x-python",
   "name": "python",
   "nbconvert_exporter": "python",
   "pygments_lexer": "ipython3",
   "version": "3.11.5"
  }
 },
 "nbformat": 4,
 "nbformat_minor": 2
}
